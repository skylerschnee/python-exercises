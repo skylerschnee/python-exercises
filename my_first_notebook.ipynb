{
 "cells": [
  {
   "cell_type": "code",
   "execution_count": 1,
   "id": "69e35a58",
   "metadata": {},
   "outputs": [
    {
     "data": {
      "text/plain": [
       "7"
      ]
     },
     "execution_count": 1,
     "metadata": {},
     "output_type": "execute_result"
    }
   ],
   "source": [
    "3 + 4"
   ]
  },
  {
   "cell_type": "markdown",
   "id": "ee7ce9b8",
   "metadata": {},
   "source": [
    "### This is for markdown\n",
    "\n",
    "##### Heading\n",
    "\n",
    "- List item 1\n",
    "- List item 2"
   ]
  },
  {
   "cell_type": "code",
   "execution_count": null,
   "id": "00bf484d",
   "metadata": {},
   "outputs": [],
   "source": [
    "### New Cell after current cell\n",
    "ESC + B\n",
    "\n",
    "### New cell before current cell\n",
    "ESC + A\n"
   ]
  },
  {
   "cell_type": "code",
   "execution_count": null,
   "id": "8380f339",
   "metadata": {},
   "outputs": [],
   "source": []
  }
 ],
 "metadata": {
  "kernelspec": {
   "display_name": "Python 3 (ipykernel)",
   "language": "python",
   "name": "python3"
  },
  "language_info": {
   "codemirror_mode": {
    "name": "ipython",
    "version": 3
   },
   "file_extension": ".py",
   "mimetype": "text/x-python",
   "name": "python",
   "nbconvert_exporter": "python",
   "pygments_lexer": "ipython3",
   "version": "3.9.13"
  }
 },
 "nbformat": 4,
 "nbformat_minor": 5
}
