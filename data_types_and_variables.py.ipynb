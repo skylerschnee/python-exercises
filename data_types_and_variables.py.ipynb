{
 "cells": [
  {
   "cell_type": "code",
   "execution_count": null,
   "id": "1872d093",
   "metadata": {},
   "outputs": [],
   "source": [
    "#### You have rented some movies for your kids:\n",
    "\n",
    "#The Little Mermaid for 3 days\n",
    "#Brother Bear for 5 days\n",
    "#Hercules for 1 day\n",
    "\n",
    "#If the daily fee to rent a movie is 3 dollars, how much will you have to pay?"
   ]
  },
  {
   "cell_type": "code",
   "execution_count": 94,
   "id": "cc01e1f3",
   "metadata": {},
   "outputs": [
    {
     "name": "stdout",
     "output_type": "stream",
     "text": [
      "How many days was The Little Mermaid rented? 3\n",
      "How many days was Brother Bear rented? 5\n",
      "How many days was the Hercules rented? 1\n"
     ]
    }
   ],
   "source": [
    "rented_movies = ['The Little Mermaid', 'Brother Bear', 'Hercules']\n",
    "daily_fee = 3\n",
    "first_number = int(input ('How many days was The Little Mermaid rented? '))\n",
    "second_number = int(input ('How many days was Brother Bear rented? '))\n",
    "third_number = int(input ('How many days was the Hercules rented? '))"
   ]
  },
  {
   "cell_type": "code",
   "execution_count": 95,
   "id": "dbad7878",
   "metadata": {},
   "outputs": [
    {
     "name": "stdout",
     "output_type": "stream",
     "text": [
      "The Little Mermaid rental fee was 9 dollars.\n",
      "Brother Bear rental fee was 15 dollars.\n",
      "Hercules rental fee was 3 dollars.\n"
     ]
    }
   ],
   "source": [
    "rental_fee_one = daily_fee * first_number\n",
    "rental_fee_two = daily_fee * second_number\n",
    "rental_fee_three = daily_fee * third_number\n",
    "\n",
    "print ('The Little Mermaid rental fee was ' + str(rental_fee_one) + ' dollars.')\n",
    "print ('Brother Bear rental fee was '+ str(rental_fee_two) + ' dollars.')\n",
    "print ('Hercules rental fee was ' + str(rental_fee_three) + ' dollars.')"
   ]
  },
  {
   "cell_type": "code",
   "execution_count": 96,
   "id": "ce281b39",
   "metadata": {},
   "outputs": [
    {
     "name": "stdout",
     "output_type": "stream",
     "text": [
      "The total rental fees are 27 dollars.\n"
     ]
    }
   ],
   "source": [
    "print ('The total rental fees are ' + str(rental_fee_one + rental_fee_two + rental_fee_three) + ' dollars.')"
   ]
  },
  {
   "cell_type": "code",
   "execution_count": null,
   "id": "cd8a6b93",
   "metadata": {},
   "outputs": [],
   "source": []
  },
  {
   "cell_type": "code",
   "execution_count": null,
   "id": "41e61deb",
   "metadata": {},
   "outputs": [],
   "source": [
    "#  Suppose you're working as a contractor for 3 companies: Google, Amazon and Facebook.\n",
    "\n",
    "# They pay you the following hourly rates:\n",
    "\n",
    "# Google: 400 dollars\n",
    "# Amazon: 380 dollars\n",
    "# Facebook: 350 dollars\n",
    "# This week you worked: 10 hours for Facebook, 6 hours for Google and 4 hours for Amazon.\n",
    "\n",
    "# How much will you receive in payment for this week?"
   ]
  },
  {
   "cell_type": "code",
   "execution_count": 97,
   "id": "ab0209ec",
   "metadata": {},
   "outputs": [
    {
     "name": "stdout",
     "output_type": "stream",
     "text": [
      "How many hours did you work at google? 6\n",
      "How many hours did you work at Amazon? 4\n",
      "How many hours did you work at Facebook? 10\n"
     ]
    }
   ],
   "source": [
    "goog_rate = 400\n",
    "amzn_rate = 380\n",
    "fbook_rate = 350\n",
    "\n",
    "\n",
    "goog_hours = int(input ('How many hours did you work at google? '))\n",
    "amzn_hours = int(input ('How many hours did you work at Amazon? '))\n",
    "fbook_hours = int(input ('How many hours did you work at Facebook? '))\n",
    "\n",
    "goog_pay = goog_rate * goog_hours\n",
    "amzn_pay = amzn_rate * amzn_hours\n",
    "fbook_pay = fbook_rate * fbook_hours"
   ]
  },
  {
   "cell_type": "code",
   "execution_count": 101,
   "id": "83f5c80d",
   "metadata": {},
   "outputs": [
    {
     "name": "stdout",
     "output_type": "stream",
     "text": [
      " This week you made $2400 at Google, $1520 at Amazon, and $3500 at Facebook, totalling $7420.\n"
     ]
    }
   ],
   "source": [
    "print(\" This week you made \" + \"$\" + str(goog_pay) + \" at Google, \" + \n",
    "      \"$\" + str(amzn_pay) + \" at Amazon, \" +\n",
    "      \"and $\" + str(fbook_pay) + \" at Facebook, totalling $\" + str(goog_pay + amzn_pay + fbook_pay) + \".\")"
   ]
  },
  {
   "cell_type": "code",
   "execution_count": null,
   "id": "e59f5751",
   "metadata": {},
   "outputs": [],
   "source": []
  },
  {
   "cell_type": "code",
   "execution_count": 107,
   "id": "cff1ec02",
   "metadata": {},
   "outputs": [
    {
     "name": "stdout",
     "output_type": "stream",
     "text": [
      "True\n"
     ]
    }
   ],
   "source": [
    "# A student can be enrolled to a class only if the class \n",
    "# is not full and the class schedule does not conflict with her current schedule.\n",
    "\n",
    "\n",
    "is_class_not_full = True\n",
    "no_sched_conflict = True\n",
    "\n",
    "\n",
    "can_be_enrolled = is_class_not_full and no_sched_conflict\n",
    "\n",
    "print(can_be_enrolled)"
   ]
  },
  {
   "cell_type": "code",
   "execution_count": null,
   "id": "e3577af6",
   "metadata": {},
   "outputs": [],
   "source": []
  },
  {
   "cell_type": "code",
   "execution_count": 100,
   "id": "95a3c8f4",
   "metadata": {},
   "outputs": [
    {
     "name": "stdout",
     "output_type": "stream",
     "text": [
      "True or False: Did you purchace two items? True\n",
      "True or False: Is the offer current? False\n",
      "Sorry, this offer does not apply\n"
     ]
    }
   ],
   "source": [
    "# A product offer can be applied only if people buys more than 2 items, and the offer has not expired. \n",
    "# Premium members do not need to buy a specific amount of products.\n",
    "\n",
    "bought_two_items = (input ('True or False: Did you purchace two items? ').upper())\n",
    "is_offer_current = (input ('True or False: Is the offer current? ').upper())\n",
    "\n",
    "if bought_two_items == 'TRUE' and is_offer_current == 'TRUE':\n",
    "    print(\"This product offer applies!\")\n",
    "else:\n",
    "    print(\"Sorry, this offer does not apply\")\n"
   ]
  },
  {
   "cell_type": "code",
   "execution_count": null,
   "id": "a439312d",
   "metadata": {},
   "outputs": [],
   "source": []
  },
  {
   "cell_type": "code",
   "execution_count": null,
   "id": "0356ba09",
   "metadata": {},
   "outputs": [],
   "source": [
    "# Continue working in the data_types_and_variables.py file. \n",
    "# Use the following code to follow the instructions below:\n",
    "\n",
    "\n",
    "#username = 'codeup'\n",
    "#password = 'notastrongpassword'\n",
    "#Create a variable that holds a boolean value for each of the following conditions:"
   ]
  },
  {
   "cell_type": "code",
   "execution_count": 116,
   "id": "98bf0109",
   "metadata": {},
   "outputs": [
    {
     "name": "stdout",
     "output_type": "stream",
     "text": [
      "True\n"
     ]
    }
   ],
   "source": [
    "#The password must be at least 5 characters\n",
    "\n",
    "username = 'codeup'\n",
    "password = 'notastrongpassword'\n",
    "\n",
    "minimum_pass_length = len(password) >= 5\n",
    "print(minimum_pass_length)"
   ]
  },
  {
   "cell_type": "code",
   "execution_count": 110,
   "id": "61525581",
   "metadata": {},
   "outputs": [
    {
     "name": "stdout",
     "output_type": "stream",
     "text": [
      "True\n"
     ]
    }
   ],
   "source": [
    "#The username must be no more than 20 characters\n",
    "\n",
    "max_un_length = len(username) <= 20\n",
    "print (max_un_length)"
   ]
  },
  {
   "cell_type": "code",
   "execution_count": 111,
   "id": "a6c83a40",
   "metadata": {},
   "outputs": [
    {
     "name": "stdout",
     "output_type": "stream",
     "text": [
      "True\n"
     ]
    }
   ],
   "source": [
    "#The password must not be the same as the username\n",
    "\n",
    "unique = username != password\n",
    "print(unique)"
   ]
  },
  {
   "cell_type": "code",
   "execution_count": 117,
   "id": "969a76b4",
   "metadata": {},
   "outputs": [
    {
     "name": "stdout",
     "output_type": "stream",
     "text": [
      "False\n"
     ]
    }
   ],
   "source": [
    "#Bonus : Neither the username or password can start or end with whitespace\n",
    "\n",
    "\n",
    "has_whitespace = \" \" in password\n",
    "print(has_whitespace)"
   ]
  }
 ],
 "metadata": {
  "kernelspec": {
   "display_name": "Python 3 (ipykernel)",
   "language": "python",
   "name": "python3"
  },
  "language_info": {
   "codemirror_mode": {
    "name": "ipython",
    "version": 3
   },
   "file_extension": ".py",
   "mimetype": "text/x-python",
   "name": "python",
   "nbconvert_exporter": "python",
   "pygments_lexer": "ipython3",
   "version": "3.9.13"
  }
 },
 "nbformat": 4,
 "nbformat_minor": 5
}
