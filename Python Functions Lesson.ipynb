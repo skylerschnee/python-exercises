{
 "cells": [
  {
   "cell_type": "markdown",
   "id": "a5c9505b",
   "metadata": {},
   "source": [
    "## Functions"
   ]
  },
  {
   "cell_type": "code",
   "execution_count": 1,
   "id": "28e45e1b",
   "metadata": {},
   "outputs": [],
   "source": [
    "# Two Flavors:\n",
    "# - Thing that you made\n",
    "# - Thiing that someone else made"
   ]
  },
  {
   "cell_type": "code",
   "execution_count": 2,
   "id": "b1c796bd",
   "metadata": {},
   "outputs": [
    {
     "data": {
      "text/plain": [
       "11"
      ]
     },
     "execution_count": 2,
     "metadata": {},
     "output_type": "execute_result"
    }
   ],
   "source": [
    "len('Hello Oneil')"
   ]
  },
  {
   "cell_type": "code",
   "execution_count": 7,
   "id": "497d5045",
   "metadata": {},
   "outputs": [],
   "source": [
    "# In this case, len() is a function that exists in the python standard library\n",
    "\n",
    "# functions like this can be called without importing additional libraries\n",
    "\n",
    "# executing 'len' renders no result\n",
    "# executing 'len()' results in error because we did not give i an argument or info to work with"
   ]
  },
  {
   "cell_type": "code",
   "execution_count": 12,
   "id": "4aa1eddd",
   "metadata": {},
   "outputs": [
    {
     "data": {
      "text/plain": [
       "45"
      ]
     },
     "execution_count": 12,
     "metadata": {},
     "output_type": "execute_result"
    }
   ],
   "source": [
    "len('whatever i type here is counted by charachter')"
   ]
  },
  {
   "cell_type": "code",
   "execution_count": 15,
   "id": "d512b84c",
   "metadata": {},
   "outputs": [
    {
     "data": {
      "text/plain": [
       "4"
      ]
     },
     "execution_count": 15,
     "metadata": {},
     "output_type": "execute_result"
    }
   ],
   "source": [
    "len([6, 9, 24, ['45', '68']]) # here it counts 6, 9, 24 as 3 then the [list] as 1 totalling 4."
   ]
  },
  {
   "cell_type": "code",
   "execution_count": 16,
   "id": "1a381a20",
   "metadata": {},
   "outputs": [],
   "source": [
    "# print() is a specific funtion that does not need an argument "
   ]
  },
  {
   "cell_type": "markdown",
   "id": "25ca8135",
   "metadata": {},
   "source": [
    "## Lets build out our own function"
   ]
  },
  {
   "cell_type": "code",
   "execution_count": 22,
   "id": "fb7e665b",
   "metadata": {},
   "outputs": [],
   "source": [
    "# structure:\n",
    "# 'def' followed by the name you want to give it\n",
    "# follow that with parentheses (parameter) and colon:\n",
    "\n",
    "def my_oneil_function():\n",
    "    ''' \n",
    "    This is where your doc string goes! describe what your function does!!\n",
    "    '''\n",
    "    print('Hello everyone!')\n",
    "    x = 7"
   ]
  },
  {
   "cell_type": "code",
   "execution_count": 21,
   "id": "87ab31f2",
   "metadata": {},
   "outputs": [
    {
     "name": "stdout",
     "output_type": "stream",
     "text": [
      "Hello everyone!\n"
     ]
    }
   ],
   "source": [
    "# lets invoke our funtion!\n",
    "# to call function:\n",
    "my_oneil_function()"
   ]
  },
  {
   "cell_type": "code",
   "execution_count": 23,
   "id": "0c3d0067",
   "metadata": {},
   "outputs": [],
   "source": [
    "x = 7"
   ]
  },
  {
   "cell_type": "code",
   "execution_count": 24,
   "id": "aab7baca",
   "metadata": {},
   "outputs": [
    {
     "data": {
      "text/plain": [
       "7"
      ]
     },
     "execution_count": 24,
     "metadata": {},
     "output_type": "execute_result"
    }
   ],
   "source": [
    "x"
   ]
  },
  {
   "cell_type": "code",
   "execution_count": 26,
   "id": "8927a0a5",
   "metadata": {},
   "outputs": [],
   "source": [
    "def my_obfuscation ():\n",
    "    x = 45\n",
    "    print(x)"
   ]
  },
  {
   "cell_type": "code",
   "execution_count": 27,
   "id": "5707ec34",
   "metadata": {},
   "outputs": [
    {
     "name": "stdout",
     "output_type": "stream",
     "text": [
      "45\n"
     ]
    }
   ],
   "source": [
    "my_obfuscation()"
   ]
  },
  {
   "cell_type": "code",
   "execution_count": 28,
   "id": "9a8a2976",
   "metadata": {},
   "outputs": [
    {
     "data": {
      "text/plain": [
       "7"
      ]
     },
     "execution_count": 28,
     "metadata": {},
     "output_type": "execute_result"
    }
   ],
   "source": [
    "x"
   ]
  },
  {
   "cell_type": "code",
   "execution_count": 34,
   "id": "ae39d602",
   "metadata": {},
   "outputs": [],
   "source": [
    "def my_altering_function(n):\n",
    "    '''\n",
    "    my altering function\n",
    "    will take any integer value\n",
    "    and reassing that value to 45.\n",
    "    Return: a single int, 45\n",
    "    '''\n",
    "    n = 45\n",
    "    return n"
   ]
  },
  {
   "cell_type": "code",
   "execution_count": 42,
   "id": "af62c403",
   "metadata": {},
   "outputs": [],
   "source": [
    "x = 7"
   ]
  },
  {
   "cell_type": "code",
   "execution_count": 43,
   "id": "f7c834e8",
   "metadata": {},
   "outputs": [
    {
     "data": {
      "text/plain": [
       "7"
      ]
     },
     "execution_count": 43,
     "metadata": {},
     "output_type": "execute_result"
    }
   ],
   "source": [
    "x"
   ]
  },
  {
   "cell_type": "code",
   "execution_count": 44,
   "id": "e93e36e0",
   "metadata": {},
   "outputs": [
    {
     "data": {
      "text/plain": [
       "45"
      ]
     },
     "execution_count": 44,
     "metadata": {},
     "output_type": "execute_result"
    }
   ],
   "source": [
    "my_altering_function(x)"
   ]
  },
  {
   "cell_type": "code",
   "execution_count": 45,
   "id": "7e948713",
   "metadata": {},
   "outputs": [],
   "source": [
    "x = my_altering_function(x)"
   ]
  },
  {
   "cell_type": "code",
   "execution_count": 46,
   "id": "d5a49bfd",
   "metadata": {},
   "outputs": [
    {
     "data": {
      "text/plain": [
       "45"
      ]
     },
     "execution_count": 46,
     "metadata": {},
     "output_type": "execute_result"
    }
   ],
   "source": [
    "my_altering_function(x)"
   ]
  },
  {
   "cell_type": "code",
   "execution_count": 47,
   "id": "9983c4b7",
   "metadata": {},
   "outputs": [
    {
     "name": "stdout",
     "output_type": "stream",
     "text": [
      "Hello everyone!\n"
     ]
    }
   ],
   "source": [
    "greeting = my_oneil_function()"
   ]
  },
  {
   "cell_type": "code",
   "execution_count": 48,
   "id": "66b5d831",
   "metadata": {},
   "outputs": [],
   "source": [
    "greeting"
   ]
  },
  {
   "cell_type": "code",
   "execution_count": 49,
   "id": "2183abee",
   "metadata": {},
   "outputs": [
    {
     "data": {
      "text/plain": [
       "NoneType"
      ]
     },
     "execution_count": 49,
     "metadata": {},
     "output_type": "execute_result"
    }
   ],
   "source": [
    "type(greeting)"
   ]
  },
  {
   "cell_type": "code",
   "execution_count": 50,
   "id": "c99ea880",
   "metadata": {},
   "outputs": [
    {
     "name": "stdout",
     "output_type": "stream",
     "text": [
      "hello, this is correct, right?\n"
     ]
    }
   ],
   "source": [
    "greeting_fixed = print('hello, this is correct, right?')"
   ]
  },
  {
   "cell_type": "code",
   "execution_count": 51,
   "id": "e58c144a",
   "metadata": {},
   "outputs": [
    {
     "data": {
      "text/plain": [
       "NoneType"
      ]
     },
     "execution_count": 51,
     "metadata": {},
     "output_type": "execute_result"
    }
   ],
   "source": [
    "type(greeting_fixed)"
   ]
  },
  {
   "cell_type": "code",
   "execution_count": 61,
   "id": "103ac80c",
   "metadata": {},
   "outputs": [],
   "source": [
    "# elaborating on return:\n",
    "\n",
    "def my_hidden_stuff():\n",
    "    '''\n",
    "    Hide and seek\n",
    "    '''\n",
    "    print('Hellooo!!!!')\n",
    "    x = 5\n",
    "    if len(some_string) > 6:\n",
    "        return x\n",
    "    else:\n",
    "        return 9\n",
    "    print('All done!')\n",
    "    return 25    "
   ]
  },
  {
   "cell_type": "code",
   "execution_count": 62,
   "id": "b5e1c739",
   "metadata": {},
   "outputs": [
    {
     "data": {
      "text/plain": [
       "11"
      ]
     },
     "execution_count": 62,
     "metadata": {},
     "output_type": "execute_result"
    }
   ],
   "source": [
    "len('Hellooo!!!!')"
   ]
  },
  {
   "cell_type": "code",
   "execution_count": 55,
   "id": "42873cc2",
   "metadata": {},
   "outputs": [
    {
     "name": "stdout",
     "output_type": "stream",
     "text": [
      "Hello!\n"
     ]
    }
   ],
   "source": [
    "my_var = my_hidden_stuff('please do thing')"
   ]
  },
  {
   "cell_type": "code",
   "execution_count": 56,
   "id": "984e3aec",
   "metadata": {},
   "outputs": [
    {
     "data": {
      "text/plain": [
       "5"
      ]
     },
     "execution_count": 56,
     "metadata": {},
     "output_type": "execute_result"
    }
   ],
   "source": [
    "my_var"
   ]
  },
  {
   "cell_type": "code",
   "execution_count": 64,
   "id": "0738cc66",
   "metadata": {},
   "outputs": [],
   "source": [
    "# the amount of arguments you define in a function are required inputs when calling the funtion:\n",
    "\n",
    "# def func_name(x, 'some_string') <--- i will need to \n",
    "# provide both arguments when calling, and in order the are defined as"
   ]
  },
  {
   "cell_type": "code",
   "execution_count": 65,
   "id": "55d26523",
   "metadata": {},
   "outputs": [],
   "source": [
    "# the idea of a keyword argument, 'kwarg' for short "
   ]
  },
  {
   "cell_type": "markdown",
   "id": "1d20de4c",
   "metadata": {},
   "source": [
    "## Unpacking"
   ]
  },
  {
   "cell_type": "code",
   "execution_count": 66,
   "id": "af7cef8b",
   "metadata": {},
   "outputs": [],
   "source": [
    "my_list_of_args = ['Hello', '9', 24]"
   ]
  },
  {
   "cell_type": "code",
   "execution_count": 67,
   "id": "22c58dcb",
   "metadata": {},
   "outputs": [
    {
     "data": {
      "text/plain": [
       "['Hello', '9', 24]"
      ]
     },
     "execution_count": 67,
     "metadata": {},
     "output_type": "execute_result"
    }
   ],
   "source": [
    "my_list_of_args"
   ]
  },
  {
   "cell_type": "code",
   "execution_count": 68,
   "id": "70f71995",
   "metadata": {},
   "outputs": [],
   "source": [
    "#if we are attempting to use a list as the argument it needs to be 'unpacked'\n",
    "#my_hidden_stuff(my_list_of_args) will not unpack and run, must use * like:\n",
    "#my_hidden_stuff(*my_list_of_args) \n",
    "\n",
    "#be sure the order of the list thats used as the argument aligns with th format of the function\n",
    "\n",
    "# if you want to unpack a dictionary, use '**' "
   ]
  },
  {
   "cell_type": "code",
   "execution_count": 69,
   "id": "969f98b3",
   "metadata": {},
   "outputs": [
    {
     "data": {
      "text/plain": [
       "<function __main__.<lambda>(x)>"
      ]
     },
     "execution_count": 69,
     "metadata": {},
     "output_type": "execute_result"
    }
   ],
   "source": [
    "lambda x: x + 5"
   ]
  },
  {
   "cell_type": "code",
   "execution_count": 70,
   "id": "ae0bfee4",
   "metadata": {},
   "outputs": [],
   "source": [
    "# assign a variable called my_first_lambda\n",
    "\n",
    "my_first_lambda = lambda x: x + 5"
   ]
  },
  {
   "cell_type": "code",
   "execution_count": 71,
   "id": "5afce04c",
   "metadata": {},
   "outputs": [
    {
     "data": {
      "text/plain": [
       "<function __main__.<lambda>(x)>"
      ]
     },
     "execution_count": 71,
     "metadata": {},
     "output_type": "execute_result"
    }
   ],
   "source": [
    "my_first_lambda"
   ]
  },
  {
   "cell_type": "code",
   "execution_count": 72,
   "id": "3259cb39",
   "metadata": {},
   "outputs": [
    {
     "data": {
      "text/plain": [
       "10"
      ]
     },
     "execution_count": 72,
     "metadata": {},
     "output_type": "execute_result"
    }
   ],
   "source": [
    "my_first_lambda(5)"
   ]
  },
  {
   "cell_type": "code",
   "execution_count": 73,
   "id": "faad1de7",
   "metadata": {},
   "outputs": [],
   "source": [
    "#structure:\n",
    "# lambda<variable_name>:<whatever I do to this varibale>"
   ]
  },
  {
   "cell_type": "code",
   "execution_count": null,
   "id": "288d06f8",
   "metadata": {},
   "outputs": [],
   "source": []
  }
 ],
 "metadata": {
  "kernelspec": {
   "display_name": "Python 3 (ipykernel)",
   "language": "python",
   "name": "python3"
  },
  "language_info": {
   "codemirror_mode": {
    "name": "ipython",
    "version": 3
   },
   "file_extension": ".py",
   "mimetype": "text/x-python",
   "name": "python",
   "nbconvert_exporter": "python",
   "pygments_lexer": "ipython3",
   "version": "3.9.13"
  }
 },
 "nbformat": 4,
 "nbformat_minor": 5
}
