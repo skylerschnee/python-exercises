{
 "cells": [
  {
   "cell_type": "markdown",
   "id": "b0a20abf",
   "metadata": {},
   "source": [
    "### Define a function named is_two. It should accept one input and return True if the passed input is either the number or the string 2, False otherwise."
   ]
  },
  {
   "cell_type": "code",
   "execution_count": 292,
   "id": "b8c91eef",
   "metadata": {},
   "outputs": [],
   "source": [
    "def is_two(x): #define the function and allow one input\n",
    "    if x == '2' or x == 2 : # if the input is the number or string of 2, return true otherwise false.\n",
    "        return True\n",
    "    else:\n",
    "        return False"
   ]
  },
  {
   "cell_type": "code",
   "execution_count": 296,
   "id": "eda9f0c9",
   "metadata": {},
   "outputs": [
    {
     "data": {
      "text/plain": [
       "True"
      ]
     },
     "execution_count": 296,
     "metadata": {},
     "output_type": "execute_result"
    }
   ],
   "source": [
    "is_two(2.0)"
   ]
  },
  {
   "cell_type": "markdown",
   "id": "f96856e9",
   "metadata": {},
   "source": [
    "### Define a function named is_vowel. It should return True if the passed string is a vowel, False otherwise."
   ]
  },
  {
   "cell_type": "code",
   "execution_count": 303,
   "id": "5ade282e",
   "metadata": {},
   "outputs": [],
   "source": [
    "def is_vowel(x): #define the function and allow one input\n",
    "    vowels = ['a', 'e', 'i', 'o', 'u'] #identifying what vowels are\n",
    "    if x.lower() in vowels: #if the input is in the list of vowels return true otherwise false.\n",
    "        return True\n",
    "    else:\n",
    "        return False"
   ]
  },
  {
   "cell_type": "code",
   "execution_count": 306,
   "id": "a4086fd7",
   "metadata": {},
   "outputs": [
    {
     "data": {
      "text/plain": [
       "True"
      ]
     },
     "execution_count": 306,
     "metadata": {},
     "output_type": "execute_result"
    }
   ],
   "source": [
    "is_vowel('E')"
   ]
  },
  {
   "cell_type": "markdown",
   "id": "4385473b",
   "metadata": {},
   "source": [
    "### Define a function named is_consonant. It should return True if the passed string is a consonant, False otherwise. Use your is_vowel function to accomplish this."
   ]
  },
  {
   "cell_type": "code",
   "execution_count": 319,
   "id": "d8b0b25d",
   "metadata": {},
   "outputs": [],
   "source": [
    "def is_consonant(x): #define the function and allow one input\n",
    "    vowels = ['a', 'e', 'i', 'o', 'u'] #identifying what vowels are\n",
    "    if type(x) != str() and len(x) > 1:\n",
    "        return False\n",
    "    if x not in vowels: #if the input is NOT in the list of vowels return true otherwise false.\n",
    "        return True\n",
    "    else:\n",
    "        return False"
   ]
  },
  {
   "cell_type": "code",
   "execution_count": 321,
   "id": "faaa7103",
   "metadata": {},
   "outputs": [
    {
     "data": {
      "text/plain": [
       "True"
      ]
     },
     "execution_count": 321,
     "metadata": {},
     "output_type": "execute_result"
    }
   ],
   "source": [
    "is_consonant('B')"
   ]
  },
  {
   "cell_type": "markdown",
   "id": "74c6724d",
   "metadata": {},
   "source": [
    "### Define a function that accepts a string that is a word. The function should capitalize the first letter of the word if the word starts with a consonant."
   ]
  },
  {
   "cell_type": "code",
   "execution_count": 69,
   "id": "2af96471",
   "metadata": {},
   "outputs": [],
   "source": [
    "def string_function(string): #define the function and allow string input\n",
    "    vowels = ['a', 'e', 'i', 'o', 'u'] #identifying what vowels are\n",
    "    if string[0] not in vowels: #if the first letter of the string is NOT in my vowel list:\n",
    "        return string.capitalize() #return the string with that letter capitalized other wise return the string.\n",
    "    else:\n",
    "        return string"
   ]
  },
  {
   "cell_type": "code",
   "execution_count": 73,
   "id": "78252c95",
   "metadata": {},
   "outputs": [
    {
     "data": {
      "text/plain": [
       "'Bravo'"
      ]
     },
     "execution_count": 73,
     "metadata": {},
     "output_type": "execute_result"
    }
   ],
   "source": [
    "string_function('bravo')"
   ]
  },
  {
   "cell_type": "markdown",
   "id": "171b487c",
   "metadata": {},
   "source": [
    "### Define a function named calculate_tip. It should accept a tip percentage (a number between 0 and 1) and the bill total, and return the amount to tip."
   ]
  },
  {
   "cell_type": "code",
   "execution_count": 76,
   "id": "2606e954",
   "metadata": {},
   "outputs": [],
   "source": [
    "def calculate_tip(x): #define the function and allow one input\n",
    "    return float(x) * float(input(\"What is the bill total? \")) #return the float of input(tip) * by the bill"
   ]
  },
  {
   "cell_type": "code",
   "execution_count": 78,
   "id": "61538313",
   "metadata": {},
   "outputs": [
    {
     "name": "stdout",
     "output_type": "stream",
     "text": [
      "What is the bill total? 41.22\n"
     ]
    },
    {
     "data": {
      "text/plain": [
       "8.244"
      ]
     },
     "execution_count": 78,
     "metadata": {},
     "output_type": "execute_result"
    }
   ],
   "source": [
    "calculate_tip(.20)"
   ]
  },
  {
   "cell_type": "markdown",
   "id": "5ad1dcb1",
   "metadata": {},
   "source": [
    "### Define a function named apply_discount. It should accept a original price, and a discount percentage, and return the price after the discount is applied."
   ]
  },
  {
   "cell_type": "code",
   "execution_count": 79,
   "id": "882e9d19",
   "metadata": {},
   "outputs": [],
   "source": [
    "def apply_discount(x1, x2): #define the function and allow two inputs\n",
    "    return float(x1) * (1 - float(x2)) #i used 1- the float of the discout % multiplied by the orignal price \n",
    "                                        # rather than calculating discount and subracting that from the total\n",
    "                                        # in an additional step."
   ]
  },
  {
   "cell_type": "code",
   "execution_count": 80,
   "id": "168d0c90",
   "metadata": {},
   "outputs": [
    {
     "data": {
      "text/plain": [
       "90.0"
      ]
     },
     "execution_count": 80,
     "metadata": {},
     "output_type": "execute_result"
    }
   ],
   "source": [
    "apply_discount(100, .10)"
   ]
  },
  {
   "cell_type": "markdown",
   "id": "3dd633e3",
   "metadata": {},
   "source": [
    "### Define a function named handle_commas. It should accept a string that is a number that contains commas in it as input, and return a number as output."
   ]
  },
  {
   "cell_type": "code",
   "execution_count": 87,
   "id": "c65567ae",
   "metadata": {},
   "outputs": [],
   "source": [
    "def handle_commas(string): #define the function and allow a string input\n",
    "    return int((string).replace(',','')) #return the sting as an int with commas replaced with ''"
   ]
  },
  {
   "cell_type": "code",
   "execution_count": 90,
   "id": "0ca20464",
   "metadata": {},
   "outputs": [
    {
     "data": {
      "text/plain": [
       "1000"
      ]
     },
     "execution_count": 90,
     "metadata": {},
     "output_type": "execute_result"
    }
   ],
   "source": [
    "handle_commas('1,000')"
   ]
  },
  {
   "cell_type": "markdown",
   "id": "6b013f59",
   "metadata": {},
   "source": [
    "### Define a function named get_letter_grade. It should accept a number and return the letter grade associated with that number (A-F)."
   ]
  },
  {
   "cell_type": "code",
   "execution_count": 322,
   "id": "24095823",
   "metadata": {},
   "outputs": [],
   "source": [
    "def get_letter_grade(n): #define the function and allow a number input\n",
    "    if n >= 90:          # if the number is greater than 90:\n",
    "        return 'A'       # give me this grade\n",
    "    elif n >= 80:          # if the number is greater than 80:\n",
    "        return 'B'       # give me this grade\n",
    "    elif n >= 75:          # if the number is greater than 75:\n",
    "        return 'C'       # give me this grade\n",
    "    elif n >= 70:          # if the number is greater than 70:\n",
    "        return 'D'       # give me this grade\n",
    "    else:                # if non of the other conditions are met:\n",
    "        return 'F'       # give me this grade"
   ]
  },
  {
   "cell_type": "code",
   "execution_count": 323,
   "id": "86addca5",
   "metadata": {},
   "outputs": [
    {
     "data": {
      "text/plain": [
       "'A'"
      ]
     },
     "execution_count": 323,
     "metadata": {},
     "output_type": "execute_result"
    }
   ],
   "source": [
    "get_letter_grade(90)"
   ]
  },
  {
   "cell_type": "markdown",
   "id": "7cdd1af2",
   "metadata": {},
   "source": [
    "### Define a function named remove_vowels that accepts a string and returns a string with all the vowels removed."
   ]
  },
  {
   "cell_type": "code",
   "execution_count": 107,
   "id": "56e129dc",
   "metadata": {},
   "outputs": [],
   "source": [
    "def remove_vowels(string):              # define the function and allow a string input\n",
    "    vowels = ('a', 'e', 'i', 'o', 'u')  # identify vowels\n",
    "    for i in vowels:                    # for (whatever) in vowels:\n",
    "        string = string.replace(i, '')  # tell python that the input now equals the input but with \n",
    "    return string                         # anything identified in the vowel list replaced with ''"
   ]
  },
  {
   "cell_type": "code",
   "execution_count": 108,
   "id": "e66360d3",
   "metadata": {},
   "outputs": [
    {
     "data": {
      "text/plain": [
       "'lph brv chrl dlt'"
      ]
     },
     "execution_count": 108,
     "metadata": {},
     "output_type": "execute_result"
    }
   ],
   "source": [
    "remove_vowels('alpha bravo charlie delta')"
   ]
  },
  {
   "cell_type": "markdown",
   "id": "b9d76d35",
   "metadata": {},
   "source": [
    "### Define a function named normalize_name. It should accept a string and return a valid python identifier, that is:\n",
    "- anything that is not a valid python identifier should be removed\n",
    "- leading and trailing whitespace should be removed\n",
    "- everything should be lowercase\n",
    "- spaces should be replaced with underscores\n",
    "##### for example:\n",
    "- Name will become name\n",
    "- First Name will become first_name\n",
    "- % Completed will become completed"
   ]
  },
  {
   "cell_type": "code",
   "execution_count": 135,
   "id": "1db0f9a2",
   "metadata": {},
   "outputs": [],
   "source": [
    "def normalize_name(string): # define the function and allow a string input\n",
    "    bad_characters = ('!', '@', '$', '%', '&', '#', '^', '*') #identify charcters we will replace with '' later\n",
    "    for i in bad_characters: #for (whatever) from the bad character list:\n",
    "        string = string.replace(i, '') # replace those items with ''\n",
    "    string = string.strip() # tell the string it is now itself but with leading and trailing whitespace stripped\n",
    "    string = string.replace(' ', '_') #tell the string it is now iteself but with underscores replacing spaces\n",
    "    return (string.lower()) #return the string in all lower case"
   ]
  },
  {
   "cell_type": "code",
   "execution_count": 139,
   "id": "920ab81b",
   "metadata": {},
   "outputs": [
    {
     "data": {
      "text/plain": [
       "'completed'"
      ]
     },
     "execution_count": 139,
     "metadata": {},
     "output_type": "execute_result"
    }
   ],
   "source": [
    "normalize_name('% Completed')"
   ]
  },
  {
   "cell_type": "markdown",
   "id": "5bdb7759",
   "metadata": {},
   "source": [
    "### Write a function named cumulative_sum that accepts a list of numbers and returns a list that is the cumulative sum of the numbers in the list.\n",
    "- cumulative_sum([1, 1, 1]) returns [1, 2, 3]\n",
    "- cumulative_sum([1, 2, 3, 4]) returns [1, 3, 6, 10]"
   ]
  },
  {
   "cell_type": "code",
   "execution_count": 151,
   "id": "defef2ce",
   "metadata": {},
   "outputs": [],
   "source": [
    "def cumulative_sum(list):          # define the function and allow a list input\n",
    "    my_list = []                   # create a blank list to put our new values in later\n",
    "    j = 0                          # identify starting point of 0 for j  \n",
    "    for i in range(0,len(list)):   # for whatever is in the range of 0 to the length of the input list:\n",
    "        j += list[i]               # take the variable j and add the value from the input list and assign the new value back to the same variable.\n",
    "        my_list.append(j)          # add the j values to the other list\n",
    "    return my_list                 # return the modifed list"
   ]
  },
  {
   "cell_type": "code",
   "execution_count": 152,
   "id": "e9384a72",
   "metadata": {},
   "outputs": [
    {
     "data": {
      "text/plain": [
       "[1, 4, 10, 20]"
      ]
     },
     "execution_count": 152,
     "metadata": {},
     "output_type": "execute_result"
    }
   ],
   "source": [
    "cumulative_sum([1, 3, 6, 10])"
   ]
  },
  {
   "cell_type": "markdown",
   "id": "a82e6605",
   "metadata": {},
   "source": [
    "### BONUS: Create a function named twelveto24. It should accept a string in the format 10:45am or 4:30pm and return a string that is the representation of the time in a 24-hour format. "
   ]
  },
  {
   "cell_type": "code",
   "execution_count": 285,
   "id": "baa283e2",
   "metadata": {},
   "outputs": [],
   "source": [
    "def twelveto24(string):\n",
    "    if int(string[:2]) == 12 and string[5:7] == 'am':\n",
    "        return '00:' + str(string[3:5])\n",
    "    if int(string[:2]) == 12 and string[5:7] == 'pm':\n",
    "        string = string.replace('pm', '')\n",
    "    if string[5:7] == 'pm':\n",
    "        return (str((int(string[:2]) + 12)) + ':' + str(string[3:5]))\n",
    "    dont_want = ('am', 'pm')\n",
    "    for i in dont_want:\n",
    "        string = string.replace(i, '')\n",
    "        return string"
   ]
  },
  {
   "cell_type": "code",
   "execution_count": 287,
   "id": "71a7d96d",
   "metadata": {},
   "outputs": [
    {
     "data": {
      "text/plain": [
       "'00:45'"
      ]
     },
     "execution_count": 287,
     "metadata": {},
     "output_type": "execute_result"
    }
   ],
   "source": [
    "twelveto24('12:45am')"
   ]
  },
  {
   "cell_type": "markdown",
   "id": "9062f9df",
   "metadata": {},
   "source": [
    "### Bonus #2:  Write a function that does the opposite."
   ]
  },
  {
   "cell_type": "code",
   "execution_count": 268,
   "id": "453d0cca",
   "metadata": {},
   "outputs": [],
   "source": [
    "def theopposite(string):\n",
    "    if int(string[:2]) > 12:\n",
    "        string = str(int(string[:2]) - 12) + ':' + string[3:5] + 'pm'\n",
    "        return string\n",
    "    if int(string[:2]) < 12:\n",
    "        return string +'am'\n",
    "    if int(string[:2]) == 12:\n",
    "        return string +'pm'"
   ]
  },
  {
   "cell_type": "code",
   "execution_count": 269,
   "id": "c943a5a5",
   "metadata": {},
   "outputs": [
    {
     "data": {
      "text/plain": [
       "'12:00pm'"
      ]
     },
     "execution_count": 269,
     "metadata": {},
     "output_type": "execute_result"
    }
   ],
   "source": [
    "theopposite('12:00')"
   ]
  },
  {
   "cell_type": "code",
   "execution_count": null,
   "id": "bfdb4ecd",
   "metadata": {},
   "outputs": [],
   "source": []
  }
 ],
 "metadata": {
  "kernelspec": {
   "display_name": "Python 3 (ipykernel)",
   "language": "python",
   "name": "python3"
  },
  "language_info": {
   "codemirror_mode": {
    "name": "ipython",
    "version": 3
   },
   "file_extension": ".py",
   "mimetype": "text/x-python",
   "name": "python",
   "nbconvert_exporter": "python",
   "pygments_lexer": "ipython3",
   "version": "3.9.13"
  }
 },
 "nbformat": 4,
 "nbformat_minor": 5
}
