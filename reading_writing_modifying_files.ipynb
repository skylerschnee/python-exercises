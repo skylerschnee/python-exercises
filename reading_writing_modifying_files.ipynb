{
 "cells": [
  {
   "cell_type": "markdown",
   "id": "243a579c",
   "metadata": {},
   "source": [
    "## Reading files with python"
   ]
  },
  {
   "cell_type": "code",
   "execution_count": 1,
   "id": "6e5cd6f2",
   "metadata": {},
   "outputs": [],
   "source": [
    "# terminal - oriented process:\n",
    "# - touch the file to make it (touch)\n",
    "# - add context via text editor (vim, vscode, etc)\n",
    "# - save it\n",
    "# - look at it (open or cat)"
   ]
  },
  {
   "cell_type": "code",
   "execution_count": 8,
   "id": "6dd01841",
   "metadata": {},
   "outputs": [],
   "source": [
    "# with python:\n",
    "# out reserved word is open\n",
    "# order here:\n",
    "# - open(my file location, what I want to do with it)\n",
    "# my_file.txt lives here so i dont nees to specify a path\n",
    "f = open('my_file.txt', 'r') "
   ]
  },
  {
   "cell_type": "code",
   "execution_count": 10,
   "id": "35274eac",
   "metadata": {},
   "outputs": [],
   "source": [
    "contents = f.read()"
   ]
  },
  {
   "cell_type": "code",
   "execution_count": 11,
   "id": "74a5f29f",
   "metadata": {},
   "outputs": [
    {
     "data": {
      "text/plain": [
       "['']"
      ]
     },
     "execution_count": 11,
     "metadata": {},
     "output_type": "execute_result"
    }
   ],
   "source": [
    "contents.split('\\n')"
   ]
  },
  {
   "cell_type": "code",
   "execution_count": 12,
   "id": "c5c43804",
   "metadata": {},
   "outputs": [],
   "source": [
    "#generally speaking,\n",
    "#if you open a file you want to close it\n",
    "f.close()"
   ]
  },
  {
   "cell_type": "code",
   "execution_count": 16,
   "id": "f4127af0",
   "metadata": {},
   "outputs": [],
   "source": [
    "with open('my_file.txt', 'r') as f:\n",
    "    my_content = f.read()"
   ]
  },
  {
   "cell_type": "code",
   "execution_count": 17,
   "id": "22b3ced8",
   "metadata": {},
   "outputs": [
    {
     "data": {
      "text/plain": [
       "'This is a text document!\\nThis is another line on the document!\\nAnd a third!   '"
      ]
     },
     "execution_count": 17,
     "metadata": {},
     "output_type": "execute_result"
    }
   ],
   "source": [
    "my_content"
   ]
  },
  {
   "cell_type": "code",
   "execution_count": 19,
   "id": "28f23af4",
   "metadata": {},
   "outputs": [],
   "source": [
    "with open('my_new_file.txt', 'w') as f:\n",
    "    f.write('heres some stuff i guess')"
   ]
  },
  {
   "cell_type": "code",
   "execution_count": 20,
   "id": "c3b9a8ce",
   "metadata": {},
   "outputs": [],
   "source": [
    "# appending information: a-mode\n",
    "with open('my_new_file.txt', 'a') as f:\n",
    "    f.writelines(['heres a fun extra line\\n', 'and another one!\\n'])"
   ]
  },
  {
   "cell_type": "code",
   "execution_count": 21,
   "id": "608b9c90",
   "metadata": {},
   "outputs": [],
   "source": [
    "# append mode: 'a' will ADD content\n",
    "# write mode: 'w' will OVERWRITE ccontent"
   ]
  },
  {
   "cell_type": "markdown",
   "id": "44b29841",
   "metadata": {},
   "source": [
    "### Welcome to os"
   ]
  },
  {
   "cell_type": "code",
   "execution_count": 22,
   "id": "fcdb668e",
   "metadata": {},
   "outputs": [],
   "source": [
    "import os"
   ]
  },
  {
   "cell_type": "code",
   "execution_count": 25,
   "id": "80cc96e6",
   "metadata": {},
   "outputs": [
    {
     "name": "stdout",
     "output_type": "stream",
     "text": [
      "yay, it exists!\n"
     ]
    }
   ],
   "source": [
    "if os.path.exists('my_file.txt'):\n",
    "    print('yay, it exists!')\n",
    "    with open('my_file.txt', 'r') as f:\n",
    "        lines = f.readlines()\n",
    "else:\n",
    "    print('does not exist')\n",
    "    with open('my_file.txt', 'w') as f:\n",
    "        f.write('brand new file!')"
   ]
  },
  {
   "cell_type": "code",
   "execution_count": 26,
   "id": "a647a514",
   "metadata": {},
   "outputs": [
    {
     "name": "stdout",
     "output_type": "stream",
     "text": [
      "does not exist\n"
     ]
    }
   ],
   "source": [
    "#if this file exists, let me see it\n",
    "#if not, create it and write 'brand new file!'\n",
    "\n",
    "\n",
    "if os.path.exists('xtra_file.txt'):\n",
    "    print('yay, it exists!')\n",
    "    with open('extra_file.txt', 'r') as f:\n",
    "        lines = f.readlines()\n",
    "else:\n",
    "    print('does not exist')\n",
    "    with open('xtra_file.txt', 'w') as f:\n",
    "        f.write('brand new file!')"
   ]
  },
  {
   "cell_type": "code",
   "execution_count": 28,
   "id": "afe9ed5b",
   "metadata": {},
   "outputs": [],
   "source": [
    "# lets make a .csv:"
   ]
  },
  {
   "cell_type": "code",
   "execution_count": 30,
   "id": "9f2c94a6",
   "metadata": {},
   "outputs": [],
   "source": [
    "with open('baby_csv.csv', 'w') as f:\n",
    "    f.writelines(\n",
    "    ['field_1, field_2, field_3\\n',\n",
    "    '0, 25, ham\\n',\n",
    "    '1, 29, sandwich\\n'])"
   ]
  },
  {
   "cell_type": "code",
   "execution_count": 31,
   "id": "bf4e4fd8",
   "metadata": {},
   "outputs": [],
   "source": [
    "with open('baby_csv.csv', 'r') as f:\n",
    "    my_baby_csv = f.readlines()"
   ]
  },
  {
   "cell_type": "code",
   "execution_count": 32,
   "id": "12b8f7cc",
   "metadata": {},
   "outputs": [
    {
     "data": {
      "text/plain": [
       "['field_1, field_2, field_3\\n', '0, 25, ham\\n', '1, 29, sandwich\\n']"
      ]
     },
     "execution_count": 32,
     "metadata": {},
     "output_type": "execute_result"
    }
   ],
   "source": [
    "my_baby_csv"
   ]
  },
  {
   "cell_type": "code",
   "execution_count": 33,
   "id": "ffeb4a81",
   "metadata": {},
   "outputs": [],
   "source": [
    "# import csv!\n",
    "import csv"
   ]
  },
  {
   "cell_type": "code",
   "execution_count": 34,
   "id": "f3f1c8b6",
   "metadata": {},
   "outputs": [],
   "source": [
    "# dictwriter, dictreader"
   ]
  },
  {
   "cell_type": "code",
   "execution_count": 35,
   "id": "3e8f6d0b",
   "metadata": {},
   "outputs": [],
   "source": [
    "# lets make a reciept\n",
    "# item, category, price\n",
    "cols = ['item', 'category', 'price']\n",
    "transaction = {\n",
    "    'item': 'milk',\n",
    "    'category': 'dairy',\n",
    "    'price': 100.00\n",
    "}"
   ]
  },
  {
   "cell_type": "code",
   "execution_count": 36,
   "id": "bcac71fb",
   "metadata": {},
   "outputs": [
    {
     "data": {
      "text/plain": [
       "{'item': 'milk', 'category': 'dairy', 'price': 100.0}"
      ]
     },
     "execution_count": 36,
     "metadata": {},
     "output_type": "execute_result"
    }
   ],
   "source": [
    "transaction"
   ]
  },
  {
   "cell_type": "code",
   "execution_count": null,
   "id": "c9a0a390",
   "metadata": {},
   "outputs": [],
   "source": [
    "# csv.DictWriter needs:\n",
    "# - what file its writing to (f)\n",
    "# - field names (cols)"
   ]
  },
  {
   "cell_type": "code",
   "execution_count": 38,
   "id": "47a705a1",
   "metadata": {},
   "outputs": [],
   "source": [
    "with open('gorceries.csv', 'w') as f:\n",
    "    writer = csv.DictWriter(f, fieldnames = cols)\n",
    "    writer.writeheader()\n",
    "    writer.writerow(transaction)"
   ]
  },
  {
   "cell_type": "code",
   "execution_count": 39,
   "id": "b07343c0",
   "metadata": {},
   "outputs": [],
   "source": [
    "# if I want to add information to our new .csv:"
   ]
  },
  {
   "cell_type": "code",
   "execution_count": 44,
   "id": "9dbf7cf7",
   "metadata": {},
   "outputs": [],
   "source": [
    "with open('gorceries.csv', 'a') as f:\n",
    "    writer = csv.DictWriter(f, fieldnames = cols)\n",
    "    writer.writerow(\n",
    "    {\n",
    "        'item': 'eggs',\n",
    "        'category': 'dairy',\n",
    "        'price': 500.00\n",
    "    })"
   ]
  },
  {
   "cell_type": "code",
   "execution_count": 46,
   "id": "f06b8cca",
   "metadata": {},
   "outputs": [],
   "source": [
    "with open('gorceries.csv', 'r') as f:\n",
    "    content = csv.DictReader(f, fieldnames = cols)\n",
    "    lines = [line for line in content][1:]"
   ]
  },
  {
   "cell_type": "code",
   "execution_count": 48,
   "id": "81b27d38",
   "metadata": {},
   "outputs": [
    {
     "data": {
      "text/plain": [
       "[{'item': 'milk', 'category': 'dairy', 'price': '100.0'},\n",
       " {'item': 'eggs', 'category': 'dairy', 'price': '500.0'}]"
      ]
     },
     "execution_count": 48,
     "metadata": {},
     "output_type": "execute_result"
    }
   ],
   "source": [
    "lines"
   ]
  },
  {
   "cell_type": "code",
   "execution_count": 49,
   "id": "4e5ae985",
   "metadata": {},
   "outputs": [],
   "source": [
    "# exiting a program in python:\n",
    "#  call exit()"
   ]
  },
  {
   "cell_type": "code",
   "execution_count": 50,
   "id": "6a6a1210",
   "metadata": {},
   "outputs": [],
   "source": [
    "# for my project:\n",
    "#maybe a csv with:\n",
    "#transaction type (credit/debit)\n",
    "#time stamp"
   ]
  },
  {
   "cell_type": "code",
   "execution_count": 51,
   "id": "84e7624a",
   "metadata": {},
   "outputs": [],
   "source": [
    "import time"
   ]
  },
  {
   "cell_type": "code",
   "execution_count": 54,
   "id": "b7bd79c6",
   "metadata": {},
   "outputs": [
    {
     "data": {
      "text/plain": [
       "<module 'time' (built-in)>"
      ]
     },
     "execution_count": 54,
     "metadata": {},
     "output_type": "execute_result"
    }
   ],
   "source": [
    "time"
   ]
  },
  {
   "cell_type": "code",
   "execution_count": 55,
   "id": "08bc703c",
   "metadata": {},
   "outputs": [],
   "source": [
    "# 1. view balance\n",
    "# 2. record a debit\n",
    "# 3. record a credit\n",
    "# 4. view and search transaction history\n",
    "#5. modify a transaction\n",
    "#6. exit"
   ]
  },
  {
   "cell_type": "code",
   "execution_count": null,
   "id": "fa4d9af2",
   "metadata": {},
   "outputs": [],
   "source": []
  }
 ],
 "metadata": {
  "kernelspec": {
   "display_name": "Python 3 (ipykernel)",
   "language": "python",
   "name": "python3"
  },
  "language_info": {
   "codemirror_mode": {
    "name": "ipython",
    "version": 3
   },
   "file_extension": ".py",
   "mimetype": "text/x-python",
   "name": "python",
   "nbconvert_exporter": "python",
   "pygments_lexer": "ipython3",
   "version": "3.9.13"
  }
 },
 "nbformat": 4,
 "nbformat_minor": 5
}
