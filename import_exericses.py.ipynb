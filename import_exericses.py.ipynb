{
 "cells": [
  {
   "cell_type": "markdown",
   "id": "36610a1d",
   "metadata": {},
   "source": [
    "## Imports"
   ]
  },
  {
   "cell_type": "markdown",
   "id": "d3fb6583",
   "metadata": {},
   "source": [
    "### Import and test 3 of the functions from your functions exercise file. Import each function in a different way:\n",
    "\n",
    "- Run an interactive python session and import the module. Call the is_vowel function using the . syntax.\n",
    "- Create a file named import_exericses.py. Within this file, use from to import the calculate_tip function directly. Call this function with values you choose and print the result.\n",
    "- Create a jupyter notebook named import_exercises.ipynb. Use from to import the get_letter_grade function and give it an alias. Test this function in your notebook.\n",
    "- Make sure your code that tests the function imports is run from the same directory that your functions exercise file is in."
   ]
  },
  {
   "cell_type": "code",
   "execution_count": null,
   "id": "9072e4e8",
   "metadata": {},
   "outputs": [],
   "source": [
    "from testfunctions import calculate_tip as tc"
   ]
  },
  {
   "cell_type": "code",
   "execution_count": null,
   "id": "efb117ec",
   "metadata": {},
   "outputs": [],
   "source": [
    "tc(.2)"
   ]
  },
  {
   "cell_type": "code",
   "execution_count": null,
   "id": "d003aff3",
   "metadata": {},
   "outputs": [],
   "source": [
    "from testfunctions import get_letter_grade as glg"
   ]
  },
  {
   "cell_type": "code",
   "execution_count": null,
   "id": "372ce06f",
   "metadata": {},
   "outputs": [],
   "source": [
    "glg(99)"
   ]
  },
  {
   "cell_type": "markdown",
   "id": "85e72678",
   "metadata": {},
   "source": [
    "### Read about and use the itertools module from the python standard library to help you solve the following problems (Hint: wrap the itertools results in a list to see the results).\n",
    "\n",
    "- How many different ways can you combine a single letter from \"abc\" with either 1, 2, or 3?\n",
    "- How many different combinations are there of 2 letters from \"abcd\"?\n",
    "- How many different permutations are there of 2 letters from \"abcd\"?"
   ]
  },
  {
   "cell_type": "code",
   "execution_count": null,
   "id": "d3d5687e",
   "metadata": {},
   "outputs": [],
   "source": [
    "import itertools as it"
   ]
  },
  {
   "cell_type": "code",
   "execution_count": null,
   "id": "4b77d798",
   "metadata": {},
   "outputs": [],
   "source": [
    "list(it.product('abc', '123'))"
   ]
  },
  {
   "cell_type": "code",
   "execution_count": null,
   "id": "c21cb03e",
   "metadata": {},
   "outputs": [],
   "source": [
    "len(list(it.product('abc', '123')))"
   ]
  },
  {
   "cell_type": "code",
   "execution_count": null,
   "id": "3cbb46ba",
   "metadata": {},
   "outputs": [],
   "source": [
    "list(it.combinations('abcd', 2))"
   ]
  },
  {
   "cell_type": "code",
   "execution_count": null,
   "id": "22f7da50",
   "metadata": {},
   "outputs": [],
   "source": [
    "len(list(it.combinations('abcd', 2)))"
   ]
  },
  {
   "cell_type": "code",
   "execution_count": null,
   "id": "ef3e7c5e",
   "metadata": {},
   "outputs": [],
   "source": [
    "list(it.permutations('abcd', 2))"
   ]
  },
  {
   "cell_type": "code",
   "execution_count": null,
   "id": "8af62852",
   "metadata": {},
   "outputs": [],
   "source": [
    "len(list(it.permutations('abcd', 2)))"
   ]
  },
  {
   "cell_type": "markdown",
   "id": "ce9c1b7b",
   "metadata": {},
   "source": [
    "### Save this file as profiles.json inside of your exercises directory (right click -> save file as...).\n",
    "\n",
    " - Use the load function from the json module to open this file."
   ]
  },
  {
   "cell_type": "code",
   "execution_count": null,
   "id": "b7e2c348",
   "metadata": {},
   "outputs": [],
   "source": [
    "import json\n",
    "\n",
    "profiles = json.load(open('profiles.json'))"
   ]
  },
  {
   "cell_type": "markdown",
   "id": "0936cf86",
   "metadata": {},
   "source": [
    "### Your code should produce a list of dictionaries. Using this data, write some code that calculates and outputs the following information:\n",
    "\n",
    "- Total number of users\n",
    "- Number of active users\n",
    "- Number of inactive users\n",
    "- Grand total of balances for all users\n",
    "- Average balance per user\n",
    "- User with the lowest balance\n",
    "- User with the highest balance\n",
    "- Most common favorite fruit\n",
    "- Least most common favorite fruit\n",
    "- Total number of unread messages for all users\n"
   ]
  },
  {
   "cell_type": "code",
   "execution_count": null,
   "id": "a575ed71",
   "metadata": {},
   "outputs": [],
   "source": [
    "profiles[0] # use this to view the filrst profile to know whats in the set"
   ]
  },
  {
   "cell_type": "code",
   "execution_count": null,
   "id": "024a58ad",
   "metadata": {},
   "outputs": [],
   "source": [
    "len(profiles) #gives us the total amount of users"
   ]
  },
  {
   "cell_type": "code",
   "execution_count": null,
   "id": "2e555882",
   "metadata": {},
   "outputs": [],
   "source": [
    "profiles[0]['isActive'] "
   ]
  },
  {
   "cell_type": "code",
   "execution_count": null,
   "id": "377006dd",
   "metadata": {},
   "outputs": [],
   "source": [
    "for profile in profiles:\n",
    "    if profile['isActive']:\n",
    "        count =+ 1"
   ]
  },
  {
   "cell_type": "code",
   "execution_count": null,
   "id": "18ec7269",
   "metadata": {},
   "outputs": [],
   "source": [
    "count = 0\n",
    "\n",
    "for profile in profiles:\n",
    "    if profile['isActive'] == False:\n",
    "        count =+ 1\n",
    "count"
   ]
  },
  {
   "cell_type": "code",
   "execution_count": null,
   "id": "b776fc3e",
   "metadata": {},
   "outputs": [],
   "source": [
    "profiles[0]['balance'].strip('$').replace(',','')"
   ]
  },
  {
   "cell_type": "code",
   "execution_count": null,
   "id": "8ad1d28f",
   "metadata": {},
   "outputs": [],
   "source": [
    "grand_total = 0\n",
    "\n",
    "for profile in profiles:\n",
    "    bal = float((profile['balance']).strip('$').replace(',', ''))\n",
    "    print(type(bal))\n",
    "    grand_total += profile['balance']\n",
    "    \n",
    "grand_total"
   ]
  },
  {
   "cell_type": "code",
   "execution_count": null,
   "id": "55c7b586",
   "metadata": {},
   "outputs": [],
   "source": [
    "round(grand_total / len(profiles),2)"
   ]
  },
  {
   "cell_type": "code",
   "execution_count": null,
   "id": "b37f6a1b",
   "metadata": {},
   "outputs": [],
   "source": [
    "balance_ls = []\n",
    "\n",
    "for profile in profiles:\n",
    "    bal = float(profile['balance'].strip('$').replace(',', ''))\n",
    "    print(bal)\n",
    "    balance_ls.append(bal)\n",
    "balance_ls"
   ]
  },
  {
   "cell_type": "code",
   "execution_count": null,
   "id": "b9c27bb1",
   "metadata": {},
   "outputs": [],
   "source": [
    "min(balance_ls)"
   ]
  },
  {
   "cell_type": "code",
   "execution_count": null,
   "id": "0b05f731",
   "metadata": {},
   "outputs": [],
   "source": [
    "max(balance_ls)"
   ]
  },
  {
   "cell_type": "code",
   "execution_count": null,
   "id": "3727e086",
   "metadata": {},
   "outputs": [],
   "source": [
    "min_bal = min(balance_ls)\n",
    "\n",
    "for profile in profiles:\n",
    "    bal = float(profile['balance'].strip('$').replace(',', ''))\n",
    "    if bal == min(balance_ls):\n",
    "        print(profile['name'], min_bal)"
   ]
  },
  {
   "cell_type": "code",
   "execution_count": null,
   "id": "f6d5885e",
   "metadata": {},
   "outputs": [],
   "source": [
    "max_bal = max(balance_ls)\n",
    "\n",
    "for profile in profiles:\n",
    "    bal = float(profile['balance'].strip('$').replace(',', ''))\n",
    "    if bal == max(balance_ls):\n",
    "        print(profile['name'], max_bal)"
   ]
  },
  {
   "cell_type": "code",
   "execution_count": null,
   "id": "ca62d189",
   "metadata": {},
   "outputs": [],
   "source": [
    "fruits = []\n",
    "\n",
    "for profile in profiles:\n",
    "    fruits.append(profile['favoriteFruit'])\n",
    "    \n",
    "fruits"
   ]
  },
  {
   "cell_type": "code",
   "execution_count": null,
   "id": "b97db9c5",
   "metadata": {},
   "outputs": [],
   "source": [
    "set(fruits)"
   ]
  },
  {
   "cell_type": "code",
   "execution_count": null,
   "id": "8c858686",
   "metadata": {},
   "outputs": [],
   "source": [
    "fruits.count('apple')"
   ]
  },
  {
   "cell_type": "code",
   "execution_count": null,
   "id": "b0d0bdbb",
   "metadata": {},
   "outputs": [],
   "source": [
    "fruits.count('banana')"
   ]
  },
  {
   "cell_type": "code",
   "execution_count": null,
   "id": "9a235c5b",
   "metadata": {},
   "outputs": [],
   "source": [
    "fruits.count('strawberry')"
   ]
  },
  {
   "cell_type": "code",
   "execution_count": null,
   "id": "f7fc48b7",
   "metadata": {},
   "outputs": [],
   "source": [
    "min(fruits, key = fruits.count) #correct answer"
   ]
  },
  {
   "cell_type": "code",
   "execution_count": null,
   "id": "7622997a",
   "metadata": {},
   "outputs": [],
   "source": [
    "max(fruits, key = fruits.count)#correct answer "
   ]
  },
  {
   "cell_type": "code",
   "execution_count": null,
   "id": "15448333",
   "metadata": {},
   "outputs": [],
   "source": [
    "for profile in profiles:\n",
    "    print(profile['greeting']) ## this pulls out all greeting from list of dictionaries"
   ]
  },
  {
   "cell_type": "code",
   "execution_count": null,
   "id": "cf36df62",
   "metadata": {},
   "outputs": [],
   "source": [
    "for profile in profiles:\n",
    "    message = profile['greeting']\n",
    "    print(message.split(' ')) ## this splits the string into a list"
   ]
  },
  {
   "cell_type": "code",
   "execution_count": null,
   "id": "d8fff8f8",
   "metadata": {},
   "outputs": [],
   "source": [
    "for profile in profiles:\n",
    "    message = profile['greeting']\n",
    "    message_ls = (message.split(' ')) \n",
    "    for word in message_ls:\n",
    "        print(word) ## now each item from list is separated"
   ]
  },
  {
   "cell_type": "code",
   "execution_count": null,
   "id": "555a0f4d",
   "metadata": {},
   "outputs": [],
   "source": [
    "total_unread = 0\n",
    "\n",
    "for profile in profiles:\n",
    "    message = profile['greeting']\n",
    "    message_ls = (message.split(' ')) \n",
    "    for word in message_ls:\n",
    "        if word.isdigit():\n",
    "            total_unread =+ int(word)\n",
    "total_unread"
   ]
  },
  {
   "cell_type": "code",
   "execution_count": null,
   "id": "3fd14212",
   "metadata": {},
   "outputs": [],
   "source": [
    "import json\n",
    "atm_data = json.load(open('atm_data.json'))\n",
    "for atm_data in atm_data:\n",
    "    bal = float((atm_data['balance']))\n",
    "    \n",
    "    bal = bal + 1\n",
    "    \n",
    "    entry = {'balance': str(bal)}\n",
    "    with open(atm_data.json, \"r+\") as file:\n",
    "    data = json.load(file)\n",
    "    data.append(entry)\n",
    "    file.seek(0)\n",
    "    json.dump(data, file)\n",
    "    \n",
    "bal\n",
    "\n",
    "# New JSON file: \n",
    "# [{\"alice\": 24, \"bob\": 27}, {\"carl\": 33}]"
   ]
  },
  {
   "cell_type": "code",
   "execution_count": null,
   "id": "2511951a",
   "metadata": {},
   "outputs": [],
   "source": []
  },
  {
   "cell_type": "code",
   "execution_count": null,
   "id": "f8bf2767",
   "metadata": {},
   "outputs": [],
   "source": []
  },
  {
   "cell_type": "code",
   "execution_count": null,
   "id": "5b349382",
   "metadata": {},
   "outputs": [],
   "source": []
  }
 ],
 "metadata": {
  "kernelspec": {
   "display_name": "Python 3 (ipykernel)",
   "language": "python",
   "name": "python3"
  },
  "language_info": {
   "codemirror_mode": {
    "name": "ipython",
    "version": 3
   },
   "file_extension": ".py",
   "mimetype": "text/x-python",
   "name": "python",
   "nbconvert_exporter": "python",
   "pygments_lexer": "ipython3",
   "version": "3.9.13"
  }
 },
 "nbformat": 4,
 "nbformat_minor": 5
}
