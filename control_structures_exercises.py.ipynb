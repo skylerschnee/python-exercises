{
 "cells": [
  {
   "cell_type": "markdown",
   "id": "0609cb0f",
   "metadata": {},
   "source": [
    "## Conditional Basics"
   ]
  },
  {
   "cell_type": "code",
   "execution_count": null,
   "id": "799aac4b",
   "metadata": {},
   "outputs": [],
   "source": [
    "# prompt the user for a day of the week, print out whether the day is Monday or not\n",
    "\n",
    "monday_or_not = (input(\"Name a day of the week: \").upper())\n",
    "if monday_or_not == \"MONDAY\":\n",
    "    print(\"It's Monday :(\")\n",
    "else:\n",
    "    print(\"It's NOT Monday :)\")"
   ]
  },
  {
   "cell_type": "code",
   "execution_count": null,
   "id": "8c8e35e9",
   "metadata": {},
   "outputs": [],
   "source": [
    "# prompt the user for a day of the week, print out whether the day is a weekday or a weekend\n",
    "\n",
    "weekend_or_weekday = (input(\"Name a day of the week: \").upper())\n",
    "if weekend_or_weekday == (\"SATURDAY\" or \"SUNDAY\"):\n",
    "    print(\"IT's THE FREAKIN WEEKEND\")\n",
    "elif weekend_or_weekday == (\"MONDAY\" or \"TUESDAY\" or \"WEDNESDAY\" or \"THURSDAY\" or \"FRIDAY\"):\n",
    "    print(\"It's not the weekend yet...\")\n",
    "else:\n",
    "    print(\"That's not even a day of the week bro, you OK? \")"
   ]
  },
  {
   "cell_type": "code",
   "execution_count": null,
   "id": "a343bd5a",
   "metadata": {},
   "outputs": [],
   "source": [
    "# create variables and make up values for\n",
    "\n",
    "# the number of hours worked in one week\n",
    "# the hourly rate\n",
    "# how much the week's paycheck will be\n",
    "# Write the python code that calculates the weekly paycheck. \n",
    "# You get paid time and a half if you work more than 40 hours"
   ]
  },
  {
   "cell_type": "code",
   "execution_count": null,
   "id": "24f4186c",
   "metadata": {},
   "outputs": [],
   "source": [
    "total_hours_worked = int(input(\"How many hours did you work this week? \"))\n",
    "\n",
    "reg_pay_hours = 40 if total_hours_worked > 40 else total_hours_worked\n",
    "overtime_hours = total_hours_worked - 40 if total_hours_worked > 40 else total_hours_worked\n",
    "hourly_rate = 40\n",
    "overtime_rate = 60\n",
    "\n",
    "pay_check = reg_pay_hours * hourly_rate + overtime_hours * overtime_rate\n",
    "\n",
    "print(\"Your total pay for this week is $\" + str(pay_check) + \" at your current rate of $40 per hour. \")"
   ]
  },
  {
   "cell_type": "markdown",
   "id": "c1be3f1f",
   "metadata": {},
   "source": [
    "## Loop Basics"
   ]
  },
  {
   "cell_type": "code",
   "execution_count": null,
   "id": "90f69301",
   "metadata": {},
   "outputs": [],
   "source": [
    "# Create an integer variable i with a value of 5. Create a while loop that \n",
    "#   runs so long as i is less than or equal to 15. Each loop iteration, \n",
    "#   output the current value of i, then increment i by one.\n",
    "\n",
    "i = 5\n",
    "while i <= 15:\n",
    "    print(i)\n",
    "    i += 1"
   ]
  },
  {
   "cell_type": "code",
   "execution_count": null,
   "id": "40ea4be7",
   "metadata": {},
   "outputs": [],
   "source": [
    "# Create a while loop that will count by 2's starting with 0 and ending at 100. \n",
    "# Follow each number with a new line.\n",
    "\n",
    "i = 0\n",
    "while i <=100:\n",
    "    print(i)\n",
    "    i += 2"
   ]
  },
  {
   "cell_type": "code",
   "execution_count": null,
   "id": "2c424e23",
   "metadata": {},
   "outputs": [],
   "source": [
    "# Alter your loop to count backwards by 5's from 100 to -10\n",
    "\n",
    "i = 100\n",
    "while i >= -10:\n",
    "    print(i)\n",
    "    i += -5  "
   ]
  },
  {
   "cell_type": "code",
   "execution_count": null,
   "id": "214600dd",
   "metadata": {},
   "outputs": [],
   "source": [
    "# Create a while loop that starts at 2, and displays the number squared on each line\n",
    "# while the number is less than 1,000,000. \n",
    "\n",
    "i = 2\n",
    "while i <= 1000000:\n",
    "    print(i)\n",
    "    i **= 2"
   ]
  },
  {
   "cell_type": "code",
   "execution_count": null,
   "id": "4f63f546",
   "metadata": {},
   "outputs": [],
   "source": [
    "# Write a loop that uses print to create the output shown below.\n",
    "\n",
    "i = 100\n",
    "while i >= 5:\n",
    "    print(i)\n",
    "    i += -5"
   ]
  },
  {
   "cell_type": "code",
   "execution_count": null,
   "id": "1260441b",
   "metadata": {},
   "outputs": [],
   "source": [
    "# Write some code that prompts the user for a number, \n",
    "# then shows a multiplication table up through 10 for that number.\n",
    "\n",
    "user_number = int(input( \"Enter a number. \"))\n",
    "for number in range(1, 11):\n",
    "    print (str(user_number) + \" X \" + str(number) + \" = \" + str(number * user_number))"
   ]
  },
  {
   "cell_type": "code",
   "execution_count": null,
   "id": "bd8549ce",
   "metadata": {},
   "outputs": [],
   "source": [
    "# Create a for loop that uses print to create the output shown below.\n",
    "\n",
    "for i in range(1,10):\n",
    "    for j in range(1, i + 1):\n",
    "        print(i, end = \"\")\n",
    "    print()"
   ]
  },
  {
   "cell_type": "markdown",
   "id": "76cc4b15",
   "metadata": {},
   "source": [
    "## break and continue"
   ]
  },
  {
   "cell_type": "code",
   "execution_count": null,
   "id": "18993f39",
   "metadata": {},
   "outputs": [],
   "source": [
    "# Write a program that prompts the user for a positive integer. \n",
    "# Next write a loop that prints out the numbers from the number the user entered down to 1.\n",
    "\n",
    "pos_int = int(input( \"Enter a positve number. \"))\n",
    "\n",
    "i = (pos_int)\n",
    "while i >= 1:\n",
    "    print(i)\n",
    "    i += -1  "
   ]
  },
  {
   "cell_type": "code",
   "execution_count": null,
   "id": "728806cb",
   "metadata": {},
   "outputs": [],
   "source": [
    "# The input function can be used to prompt for input and use that input in your python code. \n",
    "# Prompt the user to enter a positive number and write a loop that counts from 0 to that number. \n",
    "#(Hints: note that the input function returns a string, so you'll need to convert this to a numeric type.)\n",
    "\n",
    "pos_int2 = int(input( \"Enter a positve number. \"))\n",
    "\n",
    "i = 0\n",
    "while i <= (pos_int2):\n",
    "    print(i)\n",
    "    i += 1  "
   ]
  },
  {
   "cell_type": "code",
   "execution_count": 307,
   "id": "d352b03d",
   "metadata": {},
   "outputs": [
    {
     "name": "stdout",
     "output_type": "stream",
     "text": [
      "Enter an odd number between 1 & 50. 51\n",
      "Yeah, that's not an odd number between 1 & 50 fam. Try again: 52\n",
      "Yeah, that's not an odd number between 1 & 50 fam. Try again: 53\n",
      "Yeah, that's not an odd number between 1 & 50 fam. Try again: 7\n",
      "This is an odd number: 1\n",
      "This is an odd number: 3\n",
      "This is an odd number: 5\n",
      "Yikes! Skipping number: 7\n",
      "This is an odd number: 9\n",
      "This is an odd number: 11\n",
      "This is an odd number: 13\n",
      "This is an odd number: 15\n",
      "This is an odd number: 17\n",
      "This is an odd number: 19\n",
      "This is an odd number: 21\n",
      "This is an odd number: 23\n",
      "This is an odd number: 25\n",
      "This is an odd number: 27\n",
      "This is an odd number: 29\n",
      "This is an odd number: 31\n",
      "This is an odd number: 33\n",
      "This is an odd number: 35\n",
      "This is an odd number: 37\n",
      "This is an odd number: 39\n",
      "This is an odd number: 41\n",
      "This is an odd number: 43\n",
      "This is an odd number: 45\n",
      "This is an odd number: 47\n",
      "This is an odd number: 49\n"
     ]
    }
   ],
   "source": [
    "# Prompt the user for an odd number between 1 and 50. \n",
    "# Use a loop and a break statement to continue prompting the user if they enter invalid input. \n",
    "# (Hint: use the isdigit method on strings to determine this). \n",
    "# Use a loop and the continue statement to output all the odd numbers between 1 and 50, \n",
    "# except for the number the user entered.\n",
    "\n",
    "user_number = int(input( \"Enter an odd number between 1 & 50. \"))\n",
    "while True:\n",
    "    user_num = input('''Yeah, that's not an odd number between 1 & 50 fam. Try again: ''')\n",
    "    if user_num.isdigit(): #only accepts digits so floats and strings will not pass\n",
    "        user_num = int(user_num)\n",
    "        if user_num > 0 and user_num < 50 and user_num % 2 != 0:\n",
    "            break\n",
    "for i in range(1, 51):\n",
    "    if i % 2 != 0:\n",
    "        if i == user_num:\n",
    "            print('Yikes! Skipping number: ' + str(user_num))\n",
    "        else:\n",
    "            print('This is an odd number: ' + str(i)) "
   ]
  },
  {
   "cell_type": "code",
   "execution_count": null,
   "id": "488ada9d",
   "metadata": {},
   "outputs": [],
   "source": []
  },
  {
   "cell_type": "code",
   "execution_count": null,
   "id": "6a88e4fc",
   "metadata": {},
   "outputs": [],
   "source": [
    "# Fizzbuzz\n",
    "\n",
    "#One of the most common interview questions for entry-level programmers is the FizzBuzz test. Developed by Imran Ghory, the test is designed to test basic looping and conditional logic skills.\n",
    "\n",
    "#Write a program that prints the numbers from 1 to 100.\n",
    "#For multiples of three print \"Fizz\" instead of the number\n",
    "#For the multiples of five print \"Buzz\".\n",
    "#For numbers which are multiples of both three and five print \"FizzBuzz\".\n"
   ]
  },
  {
   "cell_type": "code",
   "execution_count": null,
   "id": "95932f4e",
   "metadata": {},
   "outputs": [],
   "source": []
  },
  {
   "cell_type": "code",
   "execution_count": null,
   "id": "fffbbe82",
   "metadata": {},
   "outputs": [],
   "source": [
    "# Display a table of powers.\n",
    "\n",
    "# Prompt the user to enter an integer\n",
    "# Display a table of squares and cubes from 1 to the value entered\n",
    "# Ask if the user wants to continue\n",
    "# Assume that the user will enter valid data\n",
    "# Only continue if the user agrees to"
   ]
  },
  {
   "cell_type": "code",
   "execution_count": null,
   "id": "2a1af763",
   "metadata": {},
   "outputs": [],
   "source": [
    "user_num = 8\n",
    "print('number | square | cube |')\n",
    "print('------------------------')\n",
    "for i in range (1, user_num + 1):\n",
    "    print(f'{i}| {i**2}| {i**3}')"
   ]
  },
  {
   "cell_type": "code",
   "execution_count": null,
   "id": "686f71f1",
   "metadata": {},
   "outputs": [],
   "source": [
    "#Convert given number grades into letter grades.\n",
    "\n",
    "#Prompt the user for a numerical grade from 0 to 100\n",
    "#Display the corresponding letter grade\n",
    "#Prompt the user to continue\n",
    "#Assume that the user will enter valid integers for the grades\n",
    "#The application should only continue if the user agrees to\n",
    "#Grade Ranges:\n",
    "\n",
    "#A : 100 - 88\n",
    "#B : 87 - 80\n",
    "#C : 79 - 67\n",
    "#D : 66 - 60\n",
    "#F : 59 - 0"
   ]
  },
  {
   "cell_type": "code",
   "execution_count": null,
   "id": "a77e1df3",
   "metadata": {},
   "outputs": [],
   "source": [
    "# use 90 as a test grade #\n",
    "#user_grade = 90 #comment out once we test if/elif\n",
    "\n",
    "#get user input as int\n",
    "\n",
    "while True: #had to indent the rest of the code for this function, 'break' brings us back here\n",
    "\n",
    "    user_grade = int(input(\"Enter the numerical grade 0-100:\\n\"))# used \\n to get a line break in the output\n",
    "\n",
    "    #set up cases using if, elif #\n",
    "    if user_grade >= 88:\n",
    "        print('A')\n",
    "    elif user_grade >= 80:\n",
    "        print('B')\n",
    "    elif user_grade >= 67:\n",
    "        print('C')\n",
    "    elif user_grade >= 60:\n",
    "        print('D')\n",
    "    else:\n",
    "        print('F')\n",
    "\n",
    "    user_response = input('Would you like to continue? (y/n)\\n') # need to ask user if they want to continue\n",
    "    # compare lower case version of the string input by user\n",
    "    if user_response.lower() != 'y':\n",
    "        break #if 'y' input by user, 'break' returns to the top an continues until stopped"
   ]
  },
  {
   "cell_type": "code",
   "execution_count": null,
   "id": "31a12acd",
   "metadata": {},
   "outputs": [],
   "source": []
  }
 ],
 "metadata": {
  "kernelspec": {
   "display_name": "Python 3 (ipykernel)",
   "language": "python",
   "name": "python3"
  },
  "language_info": {
   "codemirror_mode": {
    "name": "ipython",
    "version": 3
   },
   "file_extension": ".py",
   "mimetype": "text/x-python",
   "name": "python",
   "nbconvert_exporter": "python",
   "pygments_lexer": "ipython3",
   "version": "3.9.13"
  }
 },
 "nbformat": 4,
 "nbformat_minor": 5
}
